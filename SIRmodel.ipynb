{
 "cells": [
  {
   "cell_type": "markdown",
   "id": "6c7e1527-0975-43d2-b22c-8effc1ffd326",
   "metadata": {},
   "source": [
    "**Contact rate** how often do infected and susceptible people come in contact?"
   ]
  },
  {
   "cell_type": "markdown",
   "id": "96942fb1-c92c-4b7f-a954-7e5661425f1a",
   "metadata": {},
   "source": [
    "**Risk of infection** during contact, what is the chance of the spread of the disease?"
   ]
  },
  {
   "cell_type": "markdown",
   "id": "7e6e7e38-4a68-41a0-a4ec-87b1eff76bb8",
   "metadata": {},
   "source": [
    "* 100% risk of infection"
   ]
  },
  {
   "cell_type": "markdown",
   "id": "b33f366e-92eb-49fa-a518-6bd8615fa847",
   "metadata": {},
   "source": [
    "* Encounters 1 person per day"
   ]
  },
  {
   "cell_type": "code",
   "execution_count": 9,
   "id": "1466a6cb-f559-421f-a6cd-4f014bacaeb3",
   "metadata": {},
   "outputs": [],
   "source": [
    "# 1 person 1 * 0 "
   ]
  },
  {
   "cell_type": "code",
   "execution_count": 10,
   "id": "653a5e22-04eb-42ef-a0a1-1849f3db2cd9",
   "metadata": {},
   "outputs": [
    {
     "data": {
      "text/plain": [
       "1.0"
      ]
     },
     "execution_count": 10,
     "metadata": {},
     "output_type": "execute_result"
    }
   ],
   "source": [
    "1 * 1.0"
   ]
  },
  {
   "cell_type": "markdown",
   "id": "05d1ffc2-99df-4b2b-b455-4000744104f3",
   "metadata": {},
   "source": [
    "* 50% risk of infection"
   ]
  },
  {
   "cell_type": "markdown",
   "id": "9afd3e85-26e0-4b52-a0ba-84c3af79ab7e",
   "metadata": {},
   "source": [
    "* Encounters one person every day"
   ]
  },
  {
   "cell_type": "code",
   "execution_count": 14,
   "id": "09abcf70-5158-4379-9e2b-7e4a3e114e29",
   "metadata": {},
   "outputs": [],
   "source": [
    "# 1 person * 0.5"
   ]
  },
  {
   "cell_type": "code",
   "execution_count": 15,
   "id": "4e1ff4e6-99c6-4e49-9b56-d593daaba777",
   "metadata": {},
   "outputs": [
    {
     "data": {
      "text/plain": [
       "0.5"
      ]
     },
     "execution_count": 15,
     "metadata": {},
     "output_type": "execute_result"
    }
   ],
   "source": [
    "1 * 0.5"
   ]
  },
  {
   "cell_type": "markdown",
   "id": "4179b665-462d-4051-ab74-ae0f57bbe6f5",
   "metadata": {},
   "source": [
    " \"Infects 0.5 people per day\""
   ]
  },
  {
   "cell_type": "markdown",
   "id": "1d4f1a97-24ee-4693-8f94-c2f72811c4c9",
   "metadata": {},
   "source": [
    " "
   ]
  },
  {
   "cell_type": "markdown",
   "id": "91ba128c-23fe-440c-9acc-481f688b25b8",
   "metadata": {},
   "source": [
    "* 25% risk of infection"
   ]
  },
  {
   "cell_type": "markdown",
   "id": "fcb37996-242d-47c8-a986-8c98ccbe7dc8",
   "metadata": {},
   "source": [
    "* Encounters 10 people per day"
   ]
  },
  {
   "cell_type": "code",
   "execution_count": 17,
   "id": "ce55171e-74a5-465f-89f7-5d7030e14f3b",
   "metadata": {},
   "outputs": [],
   "source": [
    "# 10 person, 25% risk"
   ]
  },
  {
   "cell_type": "code",
   "execution_count": 18,
   "id": "fa251340-fec8-42aa-ba6c-cea8e8a7ac62",
   "metadata": {},
   "outputs": [
    {
     "data": {
      "text/plain": [
       "2.5"
      ]
     },
     "execution_count": 18,
     "metadata": {},
     "output_type": "execute_result"
    }
   ],
   "source": [
    "10 * 0.25 "
   ]
  },
  {
   "cell_type": "markdown",
   "id": "7bb94886-7457-472a-b174-013b95f53dff",
   "metadata": {},
   "source": [
    "\"I infect 2.5 people each day\""
   ]
  },
  {
   "cell_type": "markdown",
   "id": "3a3bbe54-d8dd-4287-9ebf-063b62cad769",
   "metadata": {},
   "source": [
    "### Not every day"
   ]
  },
  {
   "cell_type": "markdown",
   "id": "a772e5b3-72cc-473d-922d-356fd9161fca",
   "metadata": {},
   "source": [
    "* 50% risk of infection"
   ]
  },
  {
   "cell_type": "markdown",
   "id": "0dafc662-757f-4830-8b05-77b41ea220f9",
   "metadata": {},
   "source": [
    "* Encounter 1 person per day"
   ]
  },
  {
   "cell_type": "code",
   "execution_count": 19,
   "id": "0f05cc8a-c6a4-4dbb-a14a-97e85035dabf",
   "metadata": {},
   "outputs": [
    {
     "data": {
      "text/plain": [
       "0.5"
      ]
     },
     "execution_count": 19,
     "metadata": {},
     "output_type": "execute_result"
    }
   ],
   "source": [
    "1 * 0.5 "
   ]
  },
  {
   "cell_type": "markdown",
   "id": "edebf2a9-9a57-4afd-bdf5-84e405a81eee",
   "metadata": {},
   "source": [
    "* 50% risk of infection"
   ]
  },
  {
   "cell_type": "markdown",
   "id": "d835027a-699c-4a00-87ef-6c1331f2cfb6",
   "metadata": {},
   "source": [
    "*  Encounter 1 person every WEEK"
   ]
  },
  {
   "cell_type": "code",
   "execution_count": 20,
   "id": "224c2039-4fdc-4089-b66f-61b03cee8496",
   "metadata": {},
   "outputs": [
    {
     "data": {
      "text/plain": [
       "0.07142857142857142"
      ]
     },
     "execution_count": 20,
     "metadata": {},
     "output_type": "execute_result"
    }
   ],
   "source": [
    "(1/7) * 0.5"
   ]
  },
  {
   "cell_type": "markdown",
   "id": "466a8f27-148a-428b-8603-83c88c8ed380",
   "metadata": {},
   "source": [
    "\"I infect ~0.7 people every day\""
   ]
  },
  {
   "cell_type": "markdown",
   "id": "14ab6d2e-e393-4884-94bf-e7c3bbe4a340",
   "metadata": {},
   "source": [
    "**Effective contact rate** the contacts that will effectively infect another person. The big number for moving from susceptible to infected."
   ]
  },
  {
   "cell_type": "markdown",
   "id": "0dab8750-1a8b-4cba-a36f-d66b79441cc2",
   "metadata": {},
   "source": [
    "**2 Infected to removed**"
   ]
  },
  {
   "cell_type": "markdown",
   "id": "d2e17cf0-80f7-4e6a-826f-03a555fd5ab6",
   "metadata": {},
   "source": [
    "Two ways to move from infected to removed: "
   ]
  },
  {
   "cell_type": "markdown",
   "id": "02929233-a28e-42c7-a566-135b97c77a71",
   "metadata": {},
   "source": [
    "* Get better"
   ]
  },
  {
   "cell_type": "markdown",
   "id": "f8e428dc-1719-46b5-875a-a4174d859847",
   "metadata": {},
   "source": [
    "* Die"
   ]
  },
  {
   "cell_type": "markdown",
   "id": "9ff7291a-d9a0-40fc-8122-1e6da8ad8fe3",
   "metadata": {},
   "source": [
    "**Recovery period** how long it takes to recover"
   ]
  },
  {
   "cell_type": "code",
   "execution_count": 22,
   "id": "ff626919-742b-4939-93c0-c3bea29ceb40",
   "metadata": {},
   "outputs": [],
   "source": [
    "# Recovery period of 4 days"
   ]
  },
  {
   "cell_type": "code",
   "execution_count": 23,
   "id": "5aa14984-68b1-432b-b6f2-cb4e062d4f55",
   "metadata": {},
   "outputs": [
    {
     "data": {
      "text/plain": [
       "0.25"
      ]
     },
     "execution_count": 23,
     "metadata": {},
     "output_type": "execute_result"
    }
   ],
   "source": [
    "1/4"
   ]
  },
  {
   "cell_type": "markdown",
   "id": "98966d8e-cec3-4921-8b35-ed9767deca30",
   "metadata": {},
   "source": [
    "**Removal rate:** `1/recoveryperiod`, this is the rate at which people stop being infected"
   ]
  },
  {
   "cell_type": "markdown",
   "id": "32d0e7bb-89c8-4910-9813-359af9fc58df",
   "metadata": {},
   "source": [
    "* Our recovery period is 4 days"
   ]
  },
  {
   "cell_type": "markdown",
   "id": "d9f72c29-8e8e-4aaa-8cf3-a56a76c44211",
   "metadata": {},
   "source": [
    "* We have 100 sick people on day 10, how many recover on day 11?"
   ]
  },
  {
   "cell_type": "code",
   "execution_count": 27,
   "id": "abe3fff4-4b7e-4706-b9d3-4ff86b8fe613",
   "metadata": {},
   "outputs": [],
   "source": [
    "# What is our removal rate? 1/4"
   ]
  },
  {
   "cell_type": "code",
   "execution_count": 28,
   "id": "2fd8b153-7a0d-421a-8520-5025f70c2f04",
   "metadata": {},
   "outputs": [
    {
     "data": {
      "text/plain": [
       "25.0"
      ]
     },
     "execution_count": 28,
     "metadata": {},
     "output_type": "execute_result"
    }
   ],
   "source": [
    "100 * (1/4)"
   ]
  },
  {
   "cell_type": "markdown",
   "id": "48310c1a-1f96-49ee-b61a-502b249cf4d1",
   "metadata": {},
   "source": [
    "\"25 infected people are removed on day 11\""
   ]
  },
  {
   "cell_type": "markdown",
   "id": "441b3797-6ff8-46e6-b43b-07c55b4f8835",
   "metadata": {},
   "source": [
    "* If our recovery period is 10 days"
   ]
  },
  {
   "cell_type": "markdown",
   "id": "8722553f-e8ff-4599-b0f8-9bbc2f70c644",
   "metadata": {},
   "source": [
    "* And 200 sick people are present on day 10"
   ]
  },
  {
   "cell_type": "markdown",
   "id": "c22fd5d4-317f-40aa-8a7b-32721f2108d3",
   "metadata": {},
   "source": [
    "* How many recover on day 11?"
   ]
  },
  {
   "cell_type": "code",
   "execution_count": 29,
   "id": "9d77ee39-b611-4aea-b108-314b1d73a36b",
   "metadata": {},
   "outputs": [],
   "source": [
    "# What is our removal rate? 1/10"
   ]
  },
  {
   "cell_type": "code",
   "execution_count": 30,
   "id": "c6d330f6-39a4-4c20-8886-dff08bc2701b",
   "metadata": {},
   "outputs": [
    {
     "data": {
      "text/plain": [
       "20.0"
      ]
     },
     "execution_count": 30,
     "metadata": {},
     "output_type": "execute_result"
    }
   ],
   "source": [
    "200 * (1/10)"
   ]
  },
  {
   "cell_type": "markdown",
   "id": "fcb7363b-6e5e-40ab-a058-566e5e842005",
   "metadata": {},
   "source": [
    "\"On day 11 we have 20 people transition from infected to removed\""
   ]
  },
  {
   "cell_type": "markdown",
   "id": "4c2a34e5-e2dd-4c1d-99d5-d4a156995db3",
   "metadata": {},
   "source": [
    "**What is R0?**"
   ]
  },
  {
   "cell_type": "markdown",
   "id": "4309b2bf-c8d2-4a63-b502-6179829f4417",
   "metadata": {},
   "source": [
    "Movement between components:"
   ]
  },
  {
   "cell_type": "markdown",
   "id": "2f829f82-1f78-4103-bd5d-b6f7c0d0cc28",
   "metadata": {},
   "source": [
    "* S to I is **effective constant rate** `contact_rate * risk_of_infection`"
   ]
  },
  {
   "cell_type": "markdown",
   "id": "2b468c57-54c4-46bc-9268-47be29862fcc",
   "metadata": {},
   "source": [
    "* I to R is **removal rate:** `1 / recovery_period`"
   ]
  },
  {
   "cell_type": "markdown",
   "id": "a01f420c-72d3-4256-b27e-0baa6927935d",
   "metadata": {},
   "source": [
    "* 100% risk of infection"
   ]
  },
  {
   "cell_type": "markdown",
   "id": "cd46acd5-24bc-457c-ab3c-66f68447c606",
   "metadata": {},
   "source": [
    "* Encounter one person per day"
   ]
  },
  {
   "cell_type": "markdown",
   "id": "1a3eaf6e-a79b-4dbd-b769-47bc74d74455",
   "metadata": {},
   "source": [
    "* Takes 3 days to recover from disease"
   ]
  },
  {
   "cell_type": "code",
   "execution_count": 3,
   "id": "fd8422d8-e722-4be4-b3b0-de1f0cbffb41",
   "metadata": {},
   "outputs": [],
   "source": [
    "#Effective contact rate"
   ]
  },
  {
   "cell_type": "code",
   "execution_count": 2,
   "id": "f08e1048-59b8-4809-8bf0-3ed36e19b793",
   "metadata": {},
   "outputs": [
    {
     "data": {
      "text/plain": [
       "1.0"
      ]
     },
     "execution_count": 2,
     "metadata": {},
     "output_type": "execute_result"
    }
   ],
   "source": [
    "1 * 1.0"
   ]
  },
  {
   "cell_type": "code",
   "execution_count": 4,
   "id": "ded3f80d-033e-4e0c-93bc-df39b516967d",
   "metadata": {},
   "outputs": [],
   "source": [
    "#Removal rate"
   ]
  },
  {
   "cell_type": "code",
   "execution_count": 5,
   "id": "d8b3c9c8-9c7c-418e-b1ca-bf310f4567c2",
   "metadata": {},
   "outputs": [
    {
     "data": {
      "text/plain": [
       "0.3333333333333333"
      ]
     },
     "execution_count": 5,
     "metadata": {},
     "output_type": "execute_result"
    }
   ],
   "source": [
    "1/3"
   ]
  },
  {
   "cell_type": "code",
   "execution_count": 8,
   "id": "f5b812d9-ff89-4a44-9931-12913ef9af32",
   "metadata": {},
   "outputs": [],
   "source": [
    "# Basic reproductive rate: effective contact rate/removal rate"
   ]
  },
  {
   "cell_type": "code",
   "execution_count": 7,
   "id": "98f58208-fcac-4fa8-acb4-db0ba054b57a",
   "metadata": {},
   "outputs": [
    {
     "data": {
      "text/plain": [
       "3.0"
      ]
     },
     "execution_count": 7,
     "metadata": {},
     "output_type": "execute_result"
    }
   ],
   "source": [
    "1/0.3333333333333333"
   ]
  },
  {
   "cell_type": "markdown",
   "id": "82f60ce7-ee5e-4726-9da2-177c098e7cb2",
   "metadata": {},
   "source": [
    "* 50% risk of infection "
   ]
  },
  {
   "cell_type": "markdown",
   "id": "80b608cf-911c-4d95-88d7-d2a0c93040c8",
   "metadata": {},
   "source": [
    "* Encounter one person each day"
   ]
  },
  {
   "cell_type": "markdown",
   "id": "e5c95ef3-b1f2-4e3a-95af-fe88458b300e",
   "metadata": {},
   "source": [
    "* Takes 4 days to recover from disease"
   ]
  },
  {
   "cell_type": "code",
   "execution_count": 10,
   "id": "99c1b80a-38a7-4cae-b691-87d7c1871379",
   "metadata": {},
   "outputs": [],
   "source": [
    "#Effective contact rate"
   ]
  },
  {
   "cell_type": "code",
   "execution_count": 11,
   "id": "a62a594a-d79a-4d06-bb61-5d97a2c4debb",
   "metadata": {},
   "outputs": [
    {
     "data": {
      "text/plain": [
       "0.5"
      ]
     },
     "execution_count": 11,
     "metadata": {},
     "output_type": "execute_result"
    }
   ],
   "source": [
    "1*0.5"
   ]
  },
  {
   "cell_type": "code",
   "execution_count": 12,
   "id": "5a7a6fed-ec6a-4f84-ad70-0fdd7ed8e7f8",
   "metadata": {},
   "outputs": [],
   "source": [
    "#Removal rate"
   ]
  },
  {
   "cell_type": "code",
   "execution_count": 13,
   "id": "5897ddd6-8670-4518-8e19-5b0eac362aea",
   "metadata": {},
   "outputs": [
    {
     "data": {
      "text/plain": [
       "0.25"
      ]
     },
     "execution_count": 13,
     "metadata": {},
     "output_type": "execute_result"
    }
   ],
   "source": [
    "1/4"
   ]
  },
  {
   "cell_type": "code",
   "execution_count": 14,
   "id": "1bec2fa1-4b91-4f77-ad7d-50c8e673c43c",
   "metadata": {},
   "outputs": [],
   "source": [
    "#Basic reproductive rate: effective contact rate/ removal rate"
   ]
  },
  {
   "cell_type": "code",
   "execution_count": 15,
   "id": "c2327933-605c-49c5-91c0-d2baaadd7872",
   "metadata": {},
   "outputs": [
    {
     "data": {
      "text/plain": [
       "2.0"
      ]
     },
     "execution_count": 15,
     "metadata": {},
     "output_type": "execute_result"
    }
   ],
   "source": [
    "0.5/0.25"
   ]
  },
  {
   "cell_type": "markdown",
   "id": "ea97adb1-9070-4c79-a2fd-e8b94cce3265",
   "metadata": {},
   "source": [
    "* 2% risk of infection"
   ]
  },
  {
   "cell_type": "markdown",
   "id": "58f863e7-c0be-432e-8d9a-c65688aae5cd",
   "metadata": {},
   "source": [
    "* Encounter two people every day"
   ]
  },
  {
   "cell_type": "markdown",
   "id": "98569701-8314-4e8f-a72a-085f4ce14a8b",
   "metadata": {},
   "source": [
    "* Takes 21 days to recover from disease"
   ]
  },
  {
   "cell_type": "code",
   "execution_count": 17,
   "id": "e57cfbd6-b2ee-4a8d-9caa-61e3f91624ed",
   "metadata": {},
   "outputs": [],
   "source": [
    "#Effective contact rate"
   ]
  },
  {
   "cell_type": "code",
   "execution_count": 19,
   "id": "a53c3893-fd8d-42ea-a00c-a8eb52fbdfc4",
   "metadata": {},
   "outputs": [
    {
     "data": {
      "text/plain": [
       "0.04"
      ]
     },
     "execution_count": 19,
     "metadata": {},
     "output_type": "execute_result"
    }
   ],
   "source": [
    "2 * 0.02"
   ]
  },
  {
   "cell_type": "code",
   "execution_count": 20,
   "id": "7dae98d9-4473-4bfa-83c8-b57a3a960259",
   "metadata": {},
   "outputs": [],
   "source": [
    "#Removal rate"
   ]
  },
  {
   "cell_type": "code",
   "execution_count": 24,
   "id": "1360de8f-0b60-47d8-9164-1f8de3b9e1de",
   "metadata": {},
   "outputs": [
    {
     "data": {
      "text/plain": [
       "0.047619047619047616"
      ]
     },
     "execution_count": 24,
     "metadata": {},
     "output_type": "execute_result"
    }
   ],
   "source": [
    "1/21"
   ]
  },
  {
   "cell_type": "code",
   "execution_count": 22,
   "id": "84db095d-c479-47e4-93b4-986ba17228bb",
   "metadata": {},
   "outputs": [],
   "source": [
    "#Basic reproductive rate: effective contact rate/removal rate"
   ]
  },
  {
   "cell_type": "code",
   "execution_count": 25,
   "id": "7fd27887-c4de-4945-ad23-818ea688d164",
   "metadata": {},
   "outputs": [
    {
     "data": {
      "text/plain": [
       "0.8400000000000001"
      ]
     },
     "execution_count": 25,
     "metadata": {},
     "output_type": "execute_result"
    }
   ],
   "source": [
    "0.04/0.047619047619047616"
   ]
  },
  {
   "cell_type": "code",
   "execution_count": 29,
   "id": "d9b1f486-cf2f-4dee-96ce-c19a667b313c",
   "metadata": {},
   "outputs": [
    {
     "data": {
      "text/plain": [
       "'Is the R0 above 1 or not?'"
      ]
     },
     "execution_count": 29,
     "metadata": {},
     "output_type": "execute_result"
    }
   ],
   "source": [
    "\"Is the R0 above 1 or not?\""
   ]
  },
  {
   "cell_type": "markdown",
   "id": "d2098db7-17ce-4a67-aea9-6155d0c20aa3",
   "metadata": {},
   "source": [
    "* If **ABOVE ONE**: Disease will spread"
   ]
  },
  {
   "cell_type": "markdown",
   "id": "76e39e6e-2b13-4c90-b6a8-20e5c9b164c4",
   "metadata": {},
   "source": [
    "* If **Below One**: Disease dies out"
   ]
  },
  {
   "cell_type": "markdown",
   "id": "6f57a5fd-8bde-4a5d-b7e6-a560e966b1bb",
   "metadata": {},
   "source": [
    "* 100% risk of infection"
   ]
  },
  {
   "cell_type": "markdown",
   "id": "9836b929-ecab-4326-a478-b50aae0a9862",
   "metadata": {},
   "source": [
    "* Encounter one person a day"
   ]
  },
  {
   "cell_type": "markdown",
   "id": "f646174e-7aab-4c13-ac33-066d383c3404",
   "metadata": {},
   "source": [
    "* Takes 3 days to recover from disease"
   ]
  },
  {
   "cell_type": "code",
   "execution_count": 31,
   "id": "e64c750f-a363-458e-915d-899b0ad9ce44",
   "metadata": {},
   "outputs": [],
   "source": [
    "#Effective contact rate"
   ]
  },
  {
   "cell_type": "code",
   "execution_count": 32,
   "id": "443076b9-3fc6-414e-9658-711876e739ad",
   "metadata": {},
   "outputs": [
    {
     "data": {
      "text/plain": [
       "1.0"
      ]
     },
     "execution_count": 32,
     "metadata": {},
     "output_type": "execute_result"
    }
   ],
   "source": [
    "(1*1.0)"
   ]
  },
  {
   "cell_type": "code",
   "execution_count": 36,
   "id": "01f3f764-c913-40a6-9671-b1d9527ec857",
   "metadata": {},
   "outputs": [],
   "source": [
    "#Removal rate"
   ]
  },
  {
   "cell_type": "code",
   "execution_count": 33,
   "id": "7280b20e-d9c9-43e4-99a9-c950198eedcf",
   "metadata": {},
   "outputs": [
    {
     "data": {
      "text/plain": [
       "0.3333333333333333"
      ]
     },
     "execution_count": 33,
     "metadata": {},
     "output_type": "execute_result"
    }
   ],
   "source": [
    "(1/3)"
   ]
  },
  {
   "cell_type": "code",
   "execution_count": 34,
   "id": "e463d528-a27f-4ae7-87b9-38df6aa1c23b",
   "metadata": {},
   "outputs": [],
   "source": [
    "#R0"
   ]
  },
  {
   "cell_type": "code",
   "execution_count": 35,
   "id": "9bd4b7ad-eb15-40e9-8324-00a6528ae711",
   "metadata": {},
   "outputs": [
    {
     "data": {
      "text/plain": [
       "3.3333333333333335"
      ]
     },
     "execution_count": 35,
     "metadata": {},
     "output_type": "execute_result"
    }
   ],
   "source": [
    "1/0.3"
   ]
  },
  {
   "cell_type": "markdown",
   "id": "d4b57bf0-c43f-46e3-ae8c-d8408d8e4fde",
   "metadata": {},
   "source": [
    "**Greater than 1, disease will spread**"
   ]
  },
  {
   "cell_type": "markdown",
   "id": "c4bd148a-6f83-434a-bbb6-ae815dc0a27a",
   "metadata": {},
   "source": [
    "* 100% risk of infection"
   ]
  },
  {
   "cell_type": "markdown",
   "id": "6fc19c10-ec06-4397-a51c-29d2ee8cce38",
   "metadata": {},
   "source": [
    "* Encounter one person per day"
   ]
  },
  {
   "cell_type": "markdown",
   "id": "78f59ce4-b2c4-4275-bb12-fa4ea27e200a",
   "metadata": {},
   "source": [
    "* Takes 1 day to recover from disease"
   ]
  },
  {
   "cell_type": "code",
   "execution_count": 39,
   "id": "513cedd9-be21-4e6b-8b36-797b9919ab85",
   "metadata": {},
   "outputs": [],
   "source": [
    "#Effective contact rate"
   ]
  },
  {
   "cell_type": "code",
   "execution_count": 40,
   "id": "a83c2b2f-cf8e-451e-9db5-dfdb20fc3f0d",
   "metadata": {},
   "outputs": [
    {
     "data": {
      "text/plain": [
       "1"
      ]
     },
     "execution_count": 40,
     "metadata": {},
     "output_type": "execute_result"
    }
   ],
   "source": [
    "1*1"
   ]
  },
  {
   "cell_type": "code",
   "execution_count": 41,
   "id": "0c1352f0-5060-4950-86d5-6fcbf9a5c1c5",
   "metadata": {},
   "outputs": [],
   "source": [
    "#Removal rate"
   ]
  },
  {
   "cell_type": "code",
   "execution_count": 42,
   "id": "9198bc2f-5baf-4df9-b42a-0006b79bfc7e",
   "metadata": {},
   "outputs": [
    {
     "data": {
      "text/plain": [
       "1.0"
      ]
     },
     "execution_count": 42,
     "metadata": {},
     "output_type": "execute_result"
    }
   ],
   "source": [
    "1/1"
   ]
  },
  {
   "cell_type": "code",
   "execution_count": 43,
   "id": "78c294b1-40d0-4ee1-bf86-27b293424bfc",
   "metadata": {},
   "outputs": [],
   "source": [
    "#R0"
   ]
  },
  {
   "cell_type": "code",
   "execution_count": 44,
   "id": "9807344c-a1da-417c-97b3-a7d0ee72b410",
   "metadata": {},
   "outputs": [
    {
     "data": {
      "text/plain": [
       "1.0"
      ]
     },
     "execution_count": 44,
     "metadata": {},
     "output_type": "execute_result"
    }
   ],
   "source": [
    "1.0/1.0"
   ]
  },
  {
   "cell_type": "markdown",
   "id": "9f8668a0-13de-4fb0-ac3f-1005edbca23b",
   "metadata": {},
   "source": [
    "**For each day that I am sick, I get another person sick. By the next day I am considered recovered, meaning I am healed or dead, preventing me from spreading the disease any further.** "
   ]
  },
  {
   "cell_type": "markdown",
   "id": "132aaec2-c69c-4156-98cf-6fdc62c85f8f",
   "metadata": {},
   "source": [
    "* 100% risk of infection"
   ]
  },
  {
   "cell_type": "markdown",
   "id": "b17c4245-fe8e-484e-9a98-555e56fd9bf6",
   "metadata": {},
   "source": [
    "* Meet one person per day"
   ]
  },
  {
   "cell_type": "markdown",
   "id": "30cf5352-52f0-4502-9713-33a5e03d940d",
   "metadata": {},
   "source": [
    "* Takes 0.5 day to recover from disease"
   ]
  },
  {
   "cell_type": "code",
   "execution_count": 46,
   "id": "6bd19818-e11e-48e5-a25d-a5de2aa1ca44",
   "metadata": {},
   "outputs": [],
   "source": [
    "#Effective contact rate"
   ]
  },
  {
   "cell_type": "code",
   "execution_count": 47,
   "id": "56c60e6f-e51f-43a4-bfdc-4cb845974a15",
   "metadata": {},
   "outputs": [
    {
     "data": {
      "text/plain": [
       "1"
      ]
     },
     "execution_count": 47,
     "metadata": {},
     "output_type": "execute_result"
    }
   ],
   "source": [
    "1*1"
   ]
  },
  {
   "cell_type": "code",
   "execution_count": 48,
   "id": "cd64d285-f078-4045-8e62-cb6d8ec9039a",
   "metadata": {},
   "outputs": [],
   "source": [
    "#Removal rate"
   ]
  },
  {
   "cell_type": "code",
   "execution_count": 49,
   "id": "87b0c0e4-e0c6-4a3d-ac4b-8446355ed9c3",
   "metadata": {},
   "outputs": [
    {
     "data": {
      "text/plain": [
       "2.0"
      ]
     },
     "execution_count": 49,
     "metadata": {},
     "output_type": "execute_result"
    }
   ],
   "source": [
    "1/0.5"
   ]
  },
  {
   "cell_type": "code",
   "execution_count": 50,
   "id": "3ac37136-fcf3-4558-8bf3-1b1e5d960b62",
   "metadata": {},
   "outputs": [],
   "source": [
    "#R0"
   ]
  },
  {
   "cell_type": "code",
   "execution_count": 51,
   "id": "8c02d6f2-4f5b-4548-a30b-72fc4da3f3a2",
   "metadata": {},
   "outputs": [
    {
     "data": {
      "text/plain": [
       "0.5"
      ]
     },
     "execution_count": 51,
     "metadata": {},
     "output_type": "execute_result"
    }
   ],
   "source": [
    "1/2"
   ]
  },
  {
   "cell_type": "markdown",
   "id": "2116d19b-5091-4566-afcf-723e72edce9b",
   "metadata": {},
   "source": [
    "* If you were to have lunch with someone: you would be **infected** and infect them"
   ]
  },
  {
   "cell_type": "markdown",
   "id": "b59b9cd6-aaf0-4380-9ae8-ad8a801017bf",
   "metadata": {},
   "source": [
    "* If you were to have dinner with someone that same day: you would be **recovered** and not infect them"
   ]
  },
  {
   "cell_type": "markdown",
   "id": "222b3bad-34a7-4d98-ad7d-85a56830fa7f",
   "metadata": {},
   "source": [
    "**SIR modeling with Python**"
   ]
  },
  {
   "cell_type": "code",
   "execution_count": 2,
   "id": "144f2f3b-cb8e-49ab-b4f1-59df1d32a392",
   "metadata": {},
   "outputs": [],
   "source": [
    "import pandas as pd\n",
    "import numpy as np\n",
    "from scipy.integrate import odeint\n",
    "import matplotlib.pyplot as plt"
   ]
  },
  {
   "cell_type": "code",
   "execution_count": 3,
   "id": "64f60493-9d44-4864-9419-0f405f6cb4a5",
   "metadata": {},
   "outputs": [],
   "source": [
    "# The SIR model differential equations.\n",
    "def deriv(state, t, N, beta, gamma):\n",
    "    S, I, R = state\n",
    "    # Change in S population over time\n",
    "    dSdt = -beta * S * I / N\n",
    "    # Change in I population over time\n",
    "    dIdt = beta * S * I / N - gamma * I\n",
    "    # Change in R population over time\n",
    "    dRdt = gamma * I\n",
    "    return dSdt, dIdt, dRdt"
   ]
  },
  {
   "cell_type": "markdown",
   "id": "b860169f-559f-45f2-8042-a00afe7a0146",
   "metadata": {},
   "source": [
    "Start by modeling our population. Having a thousand people and one infected person is the ratio I opted for"
   ]
  },
  {
   "cell_type": "markdown",
   "id": "7beaa9bd-8fb4-4bf0-a109-258cff0d71d5",
   "metadata": {},
   "source": [
    "**Effective contact rate** is `transmission rate * contact rate`"
   ]
  },
  {
   "cell_type": "markdown",
   "id": "806e7092-0255-4178-9ac6-d39c026e68cc",
   "metadata": {},
   "source": [
    "* For example, 5% transmission rate with 5 contacts a day is shown as `0.05 * 5 = 0.25`"
   ]
  },
  {
   "cell_type": "markdown",
   "id": "d7f66ff8-7344-4002-883e-da3d4e8bbbb2",
   "metadata": {},
   "source": [
    "**Recover rate** is `1/ day`"
   ]
  },
  {
   "cell_type": "markdown",
   "id": "4ee04b5f-bb8e-435b-82af-47c1b24f6c09",
   "metadata": {},
   "source": [
    "* For example, 4 day recovery rate is `1/ 4 = 0.25`"
   ]
  },
  {
   "cell_type": "code",
   "execution_count": 70,
   "id": "2a07f08e-6332-4132-b94f-14f8d1781f23",
   "metadata": {},
   "outputs": [
    {
     "name": "stdout",
     "output_type": "stream",
     "text": [
      "R0 is 4.550000000000001\n"
     ]
    },
    {
     "data": {
      "text/plain": [
       "<Axes: xlabel='day'>"
      ]
     },
     "execution_count": 70,
     "metadata": {},
     "output_type": "execute_result"
    },
    {
     "data": {
      "image/png": "[encoded data removed]",
      "text/plain": [
       "<Figure size 640x480 with 1 Axes>"
      ]
     },
     "metadata": {},
     "output_type": "display_data"
    }
   ],
   "source": [
    "effective_contact_rate = 0.65\n",
    "recoveryRate = 1/7\n",
    "\n",
    "# We'll compute this for fun\n",
    "print(\"R0 is\", effective_contact_rate / recoveryRate)\n",
    "\n",
    "# What's the start population look like?\n",
    "# Everyone not infected or recovered is susceptible\n",
    "totalPop = 28000\n",
    "recovered = 16500\n",
    "infected = 83\n",
    "susceptible = totalPop - infected - recovered\n",
    "\n",
    "# A list of days, 0-160\n",
    "days = range(0, 160)\n",
    "\n",
    "# Use differential equations magic with our population\n",
    "ret = odeint(deriv,\n",
    "             [susceptible, infected, recovered],\n",
    "             days,\n",
    "             args=(totalPop, effective_contact_rate, recoveryRate))\n",
    "S, I, R = ret.T\n",
    "\n",
    "# Build a dataframe because why not\n",
    "df = pd.DataFrame({\n",
    "    'suseptible': S,\n",
    "    'infected': I,\n",
    "    'recovered': R,\n",
    "    'day': days\n",
    "})\n",
    "\n",
    "plt.style.use('ggplot')\n",
    "df.plot(x='day',\n",
    "        y=['infected', 'suseptible', 'recovered'],\n",
    "        color=['#bb6424', '#aac6ca', '#cc8ac0'],\n",
    "        kind='area',\n",
    "        stacked=True)\n",
    "\n",
    "# If you get the error:\n",
    "#\n",
    "#     When stacked is True, each column must be either all\n",
    "#     positive or negative.infected contains both...\n",
    "#\n",
    "# just change stacked=True to stacked=False"
   ]
  },
  {
   "cell_type": "code",
   "execution_count": 65,
   "id": "8e4bb235-22c3-45d2-8dd8-639057667ca0",
   "metadata": {},
   "outputs": [
    {
     "data": {
      "text/html": [
       "<div>\n",
       "<style scoped>\n",
       "    .dataframe tbody tr th:only-of-type {\n",
       "        vertical-align: middle;\n",
       "    }\n",
       "\n",
       "    .dataframe tbody tr th {\n",
       "        vertical-align: top;\n",
       "    }\n",
       "\n",
       "    .dataframe thead th {\n",
       "        text-align: right;\n",
       "    }\n",
       "</style>\n",
       "<table border=\"1\" class=\"dataframe\">\n",
       "  <thead>\n",
       "    <tr style=\"text-align: right;\">\n",
       "      <th></th>\n",
       "      <th>suseptible</th>\n",
       "      <th>infected</th>\n",
       "      <th>recovered</th>\n",
       "      <th>day</th>\n",
       "    </tr>\n",
       "  </thead>\n",
       "  <tbody>\n",
       "    <tr>\n",
       "      <th>0</th>\n",
       "      <td>999.000000</td>\n",
       "      <td>1.000000</td>\n",
       "      <td>0.000000</td>\n",
       "      <td>0</td>\n",
       "    </tr>\n",
       "    <tr>\n",
       "      <th>1</th>\n",
       "      <td>998.432853</td>\n",
       "      <td>1.283209</td>\n",
       "      <td>0.283938</td>\n",
       "      <td>1</td>\n",
       "    </tr>\n",
       "    <tr>\n",
       "      <th>2</th>\n",
       "      <td>997.705673</td>\n",
       "      <td>1.646096</td>\n",
       "      <td>0.648231</td>\n",
       "      <td>2</td>\n",
       "    </tr>\n",
       "    <tr>\n",
       "      <th>3</th>\n",
       "      <td>996.773817</td>\n",
       "      <td>2.110734</td>\n",
       "      <td>1.115449</td>\n",
       "      <td>3</td>\n",
       "    </tr>\n",
       "    <tr>\n",
       "      <th>4</th>\n",
       "      <td>995.580518</td>\n",
       "      <td>2.705094</td>\n",
       "      <td>1.714388</td>\n",
       "      <td>4</td>\n",
       "    </tr>\n",
       "    <tr>\n",
       "      <th>...</th>\n",
       "      <td>...</td>\n",
       "      <td>...</td>\n",
       "      <td>...</td>\n",
       "      <td>...</td>\n",
       "    </tr>\n",
       "    <tr>\n",
       "      <th>155</th>\n",
       "      <td>202.845901</td>\n",
       "      <td>0.000002</td>\n",
       "      <td>797.154096</td>\n",
       "      <td>155</td>\n",
       "    </tr>\n",
       "    <tr>\n",
       "      <th>156</th>\n",
       "      <td>202.845901</td>\n",
       "      <td>0.000002</td>\n",
       "      <td>797.154097</td>\n",
       "      <td>156</td>\n",
       "    </tr>\n",
       "    <tr>\n",
       "      <th>157</th>\n",
       "      <td>202.845901</td>\n",
       "      <td>0.000002</td>\n",
       "      <td>797.154097</td>\n",
       "      <td>157</td>\n",
       "    </tr>\n",
       "    <tr>\n",
       "      <th>158</th>\n",
       "      <td>202.845901</td>\n",
       "      <td>0.000002</td>\n",
       "      <td>797.154098</td>\n",
       "      <td>158</td>\n",
       "    </tr>\n",
       "    <tr>\n",
       "      <th>159</th>\n",
       "      <td>202.845900</td>\n",
       "      <td>0.000001</td>\n",
       "      <td>797.154098</td>\n",
       "      <td>159</td>\n",
       "    </tr>\n",
       "  </tbody>\n",
       "</table>\n",
       "<p>160 rows × 4 columns</p>\n",
       "</div>"
      ],
      "text/plain": [
       "     suseptible  infected   recovered  day\n",
       "0    999.000000  1.000000    0.000000    0\n",
       "1    998.432853  1.283209    0.283938    1\n",
       "2    997.705673  1.646096    0.648231    2\n",
       "3    996.773817  2.110734    1.115449    3\n",
       "4    995.580518  2.705094    1.714388    4\n",
       "..          ...       ...         ...  ...\n",
       "155  202.845901  0.000002  797.154096  155\n",
       "156  202.845901  0.000002  797.154097  156\n",
       "157  202.845901  0.000002  797.154097  157\n",
       "158  202.845901  0.000002  797.154098  158\n",
       "159  202.845900  0.000001  797.154098  159\n",
       "\n",
       "[160 rows x 4 columns]"
      ]
     },
     "execution_count": 65,
     "metadata": {},
     "output_type": "execute_result"
    }
   ],
   "source": [
    "df"
   ]
  },
  {
   "cell_type": "code",
   "execution_count": null,
   "id": "095eb5e2-81e5-47e6-b063-979d94b4fb44",
   "metadata": {},
   "outputs": [],
   "source": []
  }
 ],
 "metadata": {
  "kernelspec": {
   "display_name": "Python 3 (ipykernel)",
   "language": "python",
   "name": "python3"
  },
  "language_info": {
   "codemirror_mode": {
    "name": "ipython",
    "version": 3
   },
   "file_extension": ".py",
   "mimetype": "text/x-python",
   "name": "python",
   "nbconvert_exporter": "python",
   "pygments_lexer": "ipython3",
   "version": "3.12.7"
  }
 },
 "nbformat": 4,
 "nbformat_minor": 5
}
